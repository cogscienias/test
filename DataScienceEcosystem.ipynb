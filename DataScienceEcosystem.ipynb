{
 "cells": [
  {
   "cell_type": "markdown",
   "id": "bae5188e-ba0b-4d11-93d3-826392da74f5",
   "metadata": {
    "tags": []
   },
   "source": [
    "# Data Science Tools and Ecosystem"
   ]
  },
  {
   "cell_type": "markdown",
   "id": "d07f3230-9c69-4e14-99a6-41193608c181",
   "metadata": {},
   "source": [
    "In this notebook, Data Science Tools and Ecosystem are summarized."
   ]
  },
  {
   "cell_type": "markdown",
   "id": "711a2d27-416b-4294-bb4e-42b67b7647c6",
   "metadata": {
    "tags": []
   },
   "source": [
    "**Objectives:**\n",
    "List popular languages for Data Science:\n",
    "- Python\n",
    "* C++\n",
    "+ Java\n",
    "- Julia\n",
    "* C"
   ]
  },
  {
   "cell_type": "markdown",
   "id": "94b1cf4f-0286-4271-b3d4-b3fa5b51d242",
   "metadata": {},
   "source": [
    "Some of the popular languages that Data Scientists use are:\n",
    "\n",
    "1. Python\n",
    "2. C++\n",
    "3. Java"
   ]
  },
  {
   "cell_type": "markdown",
   "id": "b736c559-0038-4182-920a-44ea7536eb46",
   "metadata": {},
   "source": [
    "Some of the commonly used libraries used by Data Scientists include:\n",
    "\n",
    "1. PyTorch\n",
    "2. Numpy\n",
    "3. Pandas"
   ]
  },
  {
   "cell_type": "markdown",
   "id": "601af731-7f21-4caa-aa20-9e67091c4828",
   "metadata": {},
   "source": [
    "|Data Science Tools|\n",
    "|-----|\n",
    "| Weka |\n",
    "| Pandas |\n",
    "| Jupyter Notebooks|"
   ]
  },
  {
   "cell_type": "markdown",
   "id": "3bc6c743-97e6-41cf-a8a9-108bc9b74b2f",
   "metadata": {
    "tags": []
   },
   "source": [
    "### Below are a few examples of evaluating arithmetic expressions in Python"
   ]
  },
  {
   "cell_type": "code",
   "execution_count": 3,
   "id": "19816978-dc70-470a-9d2f-62fa457985df",
   "metadata": {
    "tags": []
   },
   "outputs": [
    {
     "data": {
      "text/plain": [
       "17"
      ]
     },
     "execution_count": 3,
     "metadata": {},
     "output_type": "execute_result"
    }
   ],
   "source": [
    "# This a simple arithmetic expression to mutiply then add integers\n",
    "(3*4)+5"
   ]
  },
  {
   "cell_type": "code",
   "execution_count": 11,
   "id": "5e1ced81-6ad5-4660-85c8-dd8f69640008",
   "metadata": {
    "tags": []
   },
   "outputs": [
    {
     "name": "stdout",
     "output_type": "stream",
     "text": [
      "3.3333333333333335h\n"
     ]
    }
   ],
   "source": [
    "# This will convert 200 minutes to hours by diving by 60\n",
    "minutes = 200\n",
    "hours = minutes / 60\n",
    "print(f\"{hours}h\")"
   ]
  },
  {
   "cell_type": "markdown",
   "id": "dd529120-65f4-4578-b94d-7e9826f4ece2",
   "metadata": {},
   "source": [
    "## Author\n",
    "Jakub "
   ]
  },
  {
   "cell_type": "code",
   "execution_count": null,
   "id": "2bf3ad0a-b130-4276-a2d7-7730901c16b1",
   "metadata": {},
   "outputs": [],
   "source": []
  }
 ],
 "metadata": {
  "kernelspec": {
   "display_name": "Python",
   "language": "python",
   "name": "conda-env-python-py"
  },
  "language_info": {
   "codemirror_mode": {
    "name": "ipython",
    "version": 3
   },
   "file_extension": ".py",
   "mimetype": "text/x-python",
   "name": "python",
   "nbconvert_exporter": "python",
   "pygments_lexer": "ipython3",
   "version": "3.7.12"
  }
 },
 "nbformat": 4,
 "nbformat_minor": 5
}
